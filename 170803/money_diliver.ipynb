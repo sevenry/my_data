{
 "cells": [
  {
   "cell_type": "code",
   "execution_count": 4,
   "metadata": {
    "collapsed": true
   },
   "outputs": [],
   "source": []
  },
  {
   "cell_type": "code",
   "execution_count": 1,
   "metadata": {
    "collapsed": true
   },
   "outputs": [],
   "source": [
    "import random"
   ]
  },
  {
   "cell_type": "code",
   "execution_count": 2,
   "metadata": {
    "collapsed": true
   },
   "outputs": [],
   "source": [
    "def diliver(i,people):#在一共people人中，第i号玩家将自己的钱随机给其它人\n",
    "    a = random.randint(0,people-2)\n",
    "    if a < i:\n",
    "        return a\n",
    "    else :\n",
    "        return a+1"
   ]
  },
  {
   "cell_type": "code",
   "execution_count": 3,
   "metadata": {
    "collapsed": true
   },
   "outputs": [],
   "source": [
    "def one_loop(s,people):#在people人中，所有人轮流给一次钱。\n",
    "    for i in range(people):\n",
    "        \n",
    "        s[i]-=1\n",
    "        a = diliver(i,people)\n",
    "        s[a]+=1\n",
    "    return s"
   ]
  },
  {
   "cell_type": "code",
   "execution_count": 4,
   "metadata": {
    "collapsed": true
   },
   "outputs": [],
   "source": [
    "def count_loop(loop):\n",
    "    max_count=0\n",
    "    min_count=0\n",
    "    for i in range(10):\n",
    "        s =[]\n",
    "        people=100\n",
    "        for i in range(people):\n",
    "            s.append(100)\n",
    "        for i in range(loop):\n",
    "            s=one_loop(s,people)\n",
    "        max_count+=max(s)\n",
    "        min_count+=min(s)\n",
    "    print(\"%d次回合后最大值平均值为%d\"%(loop,max_count/10))\n",
    "    print(\"%d次回合后最小值平均值为%d\"%(loop,min_count/10))"
   ]
  },
  {
   "cell_type": "code",
   "execution_count": null,
   "metadata": {
    "collapsed": true
   },
   "outputs": [],
   "source": []
  },
  {
   "cell_type": "code",
   "execution_count": 24,
   "metadata": {},
   "outputs": [
    {
     "name": "stdout",
     "output_type": "stream",
     "text": [
      "100次回合后最大值平均值为125\n",
      "100次回合后最小值平均值为75\n",
      "200次回合后最大值平均值为134\n",
      "200次回合后最小值平均值为63\n",
      "300次回合后最大值平均值为142\n",
      "300次回合后最小值平均值为60\n",
      "600次回合后最大值平均值为162\n",
      "600次回合后最小值平均值为35\n",
      "1000次回合后最大值平均值为188\n",
      "1000次回合后最小值平均值为25\n",
      "2000次回合后最大值平均值为211\n",
      "2000次回合后最小值平均值为-15\n"
     ]
    }
   ],
   "source": [
    "loopa = 100;\n",
    "loopb = 200;\n",
    "loopc = 300;\n",
    "loopd = 600;\n",
    "loope = 1000;\n",
    "loopf = 2000;\n",
    "count_loop(loopa);\n",
    "count_loop(loopb);\n",
    "count_loop(loopc);\n",
    "count_loop(loopd);\n",
    "count_loop(loope);\n",
    "count_loop(loopf);"
   ]
  },
  {
   "cell_type": "code",
   "execution_count": null,
   "metadata": {
    "collapsed": true
   },
   "outputs": [],
   "source": []
  },
  {
   "cell_type": "code",
   "execution_count": null,
   "metadata": {
    "collapsed": true
   },
   "outputs": [],
   "source": []
  },
  {
   "cell_type": "code",
   "execution_count": null,
   "metadata": {
    "collapsed": true
   },
   "outputs": [],
   "source": []
  },
  {
   "cell_type": "code",
   "execution_count": 13,
   "metadata": {},
   "outputs": [
    {
     "name": "stdout",
     "output_type": "stream",
     "text": [
      "8000次回合后最大值平均值为305\n",
      "8000次回合后最小值平均值为16\n",
      "8000次回合后还有72名玩家\n"
     ]
    }
   ],
   "source": [
    "count_loop_init(8000)"
   ]
  },
  {
   "cell_type": "code",
   "execution_count": null,
   "metadata": {
    "collapsed": true
   },
   "outputs": [],
   "source": []
  },
  {
   "cell_type": "code",
   "execution_count": 11,
   "metadata": {},
   "outputs": [],
   "source": [
    "def count_loop_init(loop):\n",
    "    max_count=[]\n",
    "    min_count=[]\n",
    "    much_count=[]\n",
    "    little_count=[]\n",
    "    people_count=[]\n",
    "    for i in range(10):\n",
    "        s =[]\n",
    "        people=100\n",
    "        for i in range(people):\n",
    "            s.append(100)\n",
    "        for i in range(loop):\n",
    "            s=one_loop(s,people)\n",
    "            for k in s:\n",
    "                if k==0:\n",
    "                    s.remove(0)\n",
    "                    people-=1\n",
    "                    #print(people,len(s),i)\n",
    "        much_count.append([k>150 for k in s].count(True))\n",
    "        little_count.append([k<50 for k in s].count(True))\n",
    "        max_count.append(max(s))\n",
    "        min_count.append(min(s))\n",
    "        people_count.append(people)\n",
    "    print(\"%d次回合后最大值平均值为%d\"%(loop,sum(max_count)/10))\n",
    "    print(\"%d次回合后最小值平均值为%d\"%(loop,sum(min_count)/10))\n",
    "    print(\"%d次回合后还有%d名玩家\"%(loop,sum(people_count)/10))"
   ]
  },
  {
   "cell_type": "code",
   "execution_count": 164,
   "metadata": {},
   "outputs": [
    {
     "data": {
      "text/plain": [
       "[481, 417, 534, 455, 506, 479, 496, 542, 431, 435]"
      ]
     },
     "execution_count": 164,
     "metadata": {},
     "output_type": "execute_result"
    }
   ],
   "source": []
  },
  {
   "cell_type": "code",
   "execution_count": 165,
   "metadata": {},
   "outputs": [
    {
     "data": {
      "text/plain": [
       "[14, 17, 40, 41, 15, 5, 26, 12, 22, 15]"
      ]
     },
     "execution_count": 165,
     "metadata": {},
     "output_type": "execute_result"
    }
   ],
   "source": [
    "min_count"
   ]
  },
  {
   "cell_type": "code",
   "execution_count": 166,
   "metadata": {},
   "outputs": [
    {
     "data": {
      "text/plain": [
       "[31, 34, 33, 34, 33, 30, 31, 32, 31, 32]"
      ]
     },
     "execution_count": 166,
     "metadata": {},
     "output_type": "execute_result"
    }
   ],
   "source": [
    "much_count"
   ]
  },
  {
   "cell_type": "code",
   "execution_count": 167,
   "metadata": {},
   "outputs": [
    {
     "data": {
      "text/plain": [
       "[3, 1, 2, 3, 4, 2, 4, 5, 2, 2]"
      ]
     },
     "execution_count": 167,
     "metadata": {},
     "output_type": "execute_result"
    }
   ],
   "source": [
    "little_count"
   ]
  },
  {
   "cell_type": "code",
   "execution_count": 168,
   "metadata": {},
   "outputs": [
    {
     "data": {
      "text/plain": [
       "[52, 48, 47, 49, 55, 50, 53, 53, 52, 50]"
      ]
     },
     "execution_count": 168,
     "metadata": {},
     "output_type": "execute_result"
    }
   ],
   "source": [
    "people_count"
   ]
  },
  {
   "cell_type": "code",
   "execution_count": 98,
   "metadata": {
    "collapsed": true
   },
   "outputs": [],
   "source": [
    "c.remove(2)"
   ]
  },
  {
   "cell_type": "code",
   "execution_count": 100,
   "metadata": {},
   "outputs": [
    {
     "data": {
      "text/plain": [
       "5"
      ]
     },
     "execution_count": 100,
     "metadata": {},
     "output_type": "execute_result"
    }
   ],
   "source": [
    "c[2]"
   ]
  },
  {
   "cell_type": "code",
   "execution_count": 48,
   "metadata": {
    "collapsed": true
   },
   "outputs": [],
   "source": [
    "b=map(i>2 ,a)"
   ]
  },
  {
   "cell_type": "code",
   "execution_count": 52,
   "metadata": {
    "collapsed": true
   },
   "outputs": [],
   "source": [
    "b=[x>1 for x in a]"
   ]
  },
  {
   "cell_type": "code",
   "execution_count": 54,
   "metadata": {},
   "outputs": [
    {
     "data": {
      "text/plain": [
       "3"
      ]
     },
     "execution_count": 54,
     "metadata": {},
     "output_type": "execute_result"
    }
   ],
   "source": [
    "b.count(True)"
   ]
  },
  {
   "cell_type": "code",
   "execution_count": 153,
   "metadata": {
    "collapsed": true
   },
   "outputs": [],
   "source": [
    "b=[3,4,5,1,2]"
   ]
  },
  {
   "cell_type": "code",
   "execution_count": 154,
   "metadata": {},
   "outputs": [
    {
     "name": "stdout",
     "output_type": "stream",
     "text": [
      "0\n",
      "1\n",
      "2\n",
      "3\n",
      "4\n"
     ]
    },
    {
     "ename": "IndexError",
     "evalue": "list index out of range",
     "output_type": "error",
     "traceback": [
      "\u001b[1;31m---------------------------------------------------------------------------\u001b[0m",
      "\u001b[1;31mIndexError\u001b[0m                                Traceback (most recent call last)",
      "\u001b[1;32m<ipython-input-154-b6f54b1fdd2e>\u001b[0m in \u001b[0;36m<module>\u001b[1;34m()\u001b[0m\n\u001b[0;32m      1\u001b[0m \u001b[1;32mfor\u001b[0m \u001b[0mi\u001b[0m \u001b[1;32min\u001b[0m \u001b[0mrange\u001b[0m\u001b[1;33m(\u001b[0m\u001b[0mlen\u001b[0m\u001b[1;33m(\u001b[0m\u001b[0mb\u001b[0m\u001b[1;33m)\u001b[0m\u001b[1;33m)\u001b[0m\u001b[1;33m:\u001b[0m\u001b[1;33m\u001b[0m\u001b[0m\n\u001b[0;32m      2\u001b[0m     \u001b[0mprint\u001b[0m\u001b[1;33m(\u001b[0m\u001b[0mi\u001b[0m\u001b[1;33m)\u001b[0m\u001b[1;33m\u001b[0m\u001b[0m\n\u001b[1;32m----> 3\u001b[1;33m     \u001b[1;32mif\u001b[0m \u001b[0mb\u001b[0m\u001b[1;33m[\u001b[0m\u001b[0mi\u001b[0m\u001b[1;33m]\u001b[0m\u001b[1;33m>\u001b[0m\u001b[1;36m3\u001b[0m\u001b[1;33m:\u001b[0m\u001b[1;33m\u001b[0m\u001b[0m\n\u001b[0m\u001b[0;32m      4\u001b[0m         \u001b[0mb\u001b[0m\u001b[1;33m.\u001b[0m\u001b[0mremove\u001b[0m\u001b[1;33m(\u001b[0m\u001b[0mb\u001b[0m\u001b[1;33m[\u001b[0m\u001b[0mi\u001b[0m\u001b[1;33m]\u001b[0m\u001b[1;33m)\u001b[0m\u001b[1;33m\u001b[0m\u001b[0m\n\u001b[0;32m      5\u001b[0m         \u001b[1;32mcontinue\u001b[0m\u001b[1;33m\u001b[0m\u001b[0m\n",
      "\u001b[1;31mIndexError\u001b[0m: list index out of range"
     ]
    }
   ],
   "source": [
    "for i in range(len(b)):\n",
    "    print(i)\n",
    "    if b[i]>3:\n",
    "        b.remove(b[i])\n",
    "        continue\n",
    "    b[i]+=0.4"
   ]
  },
  {
   "cell_type": "code",
   "execution_count": 155,
   "metadata": {},
   "outputs": [
    {
     "data": {
      "text/plain": [
       "[3.4, 5, 1.4, 2.4]"
      ]
     },
     "execution_count": 155,
     "metadata": {},
     "output_type": "execute_result"
    }
   ],
   "source": [
    "b"
   ]
  },
  {
   "cell_type": "code",
   "execution_count": null,
   "metadata": {
    "collapsed": true
   },
   "outputs": [],
   "source": []
  }
 ],
 "metadata": {
  "kernelspec": {
   "display_name": "Python 3",
   "language": "python",
   "name": "python3"
  },
  "language_info": {
   "codemirror_mode": {
    "name": "ipython",
    "version": 3
   },
   "file_extension": ".py",
   "mimetype": "text/x-python",
   "name": "python",
   "nbconvert_exporter": "python",
   "pygments_lexer": "ipython3",
   "version": "3.6.1"
  }
 },
 "nbformat": 4,
 "nbformat_minor": 2
}
